{
 "cells": [
  {
   "cell_type": "markdown",
   "metadata": {},
   "source": [
    "# 51 - 75 "
   ]
  },
  {
   "cell_type": "markdown",
   "metadata": {},
   "source": [
    "## Pro tip :-\n",
    "### Before starting this section drink lot of water and stay hydrated "
   ]
  },
  {
   "cell_type": "markdown",
   "metadata": {},
   "source": [
    "<img src=\"./funny-pictures-auto-meafcomics-water-364709.jpeg\" />"
   ]
  },
  {
   "cell_type": "markdown",
   "metadata": {},
   "source": [
    "**Question: The code produces an error. Please understand the error and try to fix it**\n",
    "\n",
    "print(type(\"Hey\".replace(\"ey\",\"i\")[-1])  "
   ]
  },
  {
   "cell_type": "code",
   "execution_count": null,
   "metadata": {},
   "outputs": [],
   "source": [
    "print(type(\"Hey\".replace(\"ey\",\"i\")[-1]))\n",
    "\n",
    "#An open bracket always needs a closing bracket.\n",
    "\n",
    "#unexpected EOF while parsing which means that Python found an unexpected End Of File while parsing. \n",
    "#The reason of an unexpected end of file is there's a missing closing bracket at the end of the script.\n",
    "#So, adding a closing bracket at the end of the file fixes the code."
   ]
  },
  {
   "cell_type": "markdown",
   "metadata": {},
   "source": [
    "<p> </p>"
   ]
  },
  {
   "cell_type": "markdown",
   "metadata": {},
   "source": [
    "** Question: The code is supposed to ask the user to enter their name and surname and then it prints out those user submitted values. Instead, the code throws a TypeError. Please fix it so that the expected output is printed out.**\n",
    "\n",
    "firstname = input(\"Enter first name: \")\n",
    "\n",
    "secondname = input(\"Enter second name: \")\n",
    "\n",
    "print(\"Your first name is %s and your second name is %s\" % firstname, secondname)\n",
    "\n",
    "*Expected output:* \n",
    "\n",
    "**Your first name is John and your second name is Smith** "
   ]
  },
  {
   "cell_type": "code",
   "execution_count": null,
   "metadata": {},
   "outputs": [],
   "source": [
    "\n",
    "firstname = input(\"hi \")\n",
    "secondname = input(\"Enter second name: \")\n",
    "print(\"Your first name is %s and your second name is %s\" % (firstname, secondname))\n",
    "\n",
    "    \n",
    "    \n"
   ]
  },
  {
   "cell_type": "markdown",
   "metadata": {},
   "source": [
    "# Dict { }"
   ]
  },
  {
   "cell_type": "markdown",
   "metadata": {},
   "source": [
    "**Question: Print out the last name of the second employee.**\n",
    "\n",
    "d = {\"employees\":[{\"firstName\": \"John\", \"lastName\": \"Doe\"},\n",
    "                {\"firstName\": \"Anna\", \"lastName\": \"Smith\"},\n",
    "                {\"firstName\": \"Peter\", \"lastName\": \"Jones\"}],\n",
    "                \n",
    "\"owners\":[{\"firstName\": \"Jack\", \"lastName\": \"Petter\"},\n",
    "          {\"firstName\": \"Jessy\", \"lastName\": \"Petter\"}]}\n",
    "          \n",
    " **o/p = Smith**"
   ]
  },
  {
   "cell_type": "code",
   "execution_count": null,
   "metadata": {},
   "outputs": [],
   "source": [
    "d = {\"employees\":[{\"firstName\": \"John\", \"lastName\": \"Doe\"},\n",
    "                {\"firstName\": \"Anna\", \"lastName\": \"Smith\"},\n",
    "                {\"firstName\": \"Peter\", \"lastName\": \"Jones\"}],\n",
    "                \n",
    "\"owners\":[{\"firstName\": \"Jack\", \"lastName\": \"Petter\"},\n",
    "          {\"firstName\": \"Jessy\", \"lastName\": \"Petter\"}]}"
   ]
  },
  {
   "cell_type": "code",
   "execution_count": null,
   "metadata": {},
   "outputs": [],
   "source": [
    "print(d[\"employees\"][1][\"lastName\"])\n",
    "print(\"\\n\")\n",
    "print(d[\"employees\"])\n"
   ]
  },
  {
   "cell_type": "markdown",
   "metadata": {},
   "source": [
    "<p></p>\n",
    "**Question: Please update the dictionary by changing the last name of the second employee from Smith to Smooth or to whatever takes your fancy.**\n",
    "\n",
    "d = {\"employees\":[{\"firstName\": \"John\", \"lastName\": \"Doe\"},\n",
    "                {\"firstName\": \"Anna\", \"lastName\": \"Smith\"},\n",
    "                {\"firstName\": \"Peter\", \"lastName\": \"Jones\"}],\n",
    "                \n",
    "\"owners\":[{\"firstName\": \"Jack\", \"lastName\": \"Petter\"},\n",
    "          {\"firstName\": \"Jessy\", \"lastName\": \"Petter\"}]}"
   ]
  },
  {
   "cell_type": "code",
   "execution_count": null,
   "metadata": {},
   "outputs": [],
   "source": [
    "d[\"employees\"][1][\"lastName\"] = \"Smoth\"\n",
    "print(d[\"employees\"])"
   ]
  },
  {
   "cell_type": "markdown",
   "metadata": {},
   "source": [
    "<p></p>"
   ]
  },
  {
   "cell_type": "markdown",
   "metadata": {},
   "source": [
    "**Question: Please add a new employee to the dictionary.**\n",
    "\n",
    "d = {\"employees\":[{\"firstName\": \"John\", \"lastName\": \"Doe\"},\n",
    "\n",
    "                {\"firstName\": \"Anna\", \"lastName\": \"Smith\"},\n",
    "                \n",
    "                {\"firstName\": \"Peter\", \"lastName\": \"Jones\"}],\n",
    "                \n",
    "         \"owners\":[{\"firstName\": \"Jack\", \"lastName\": \"Petter\"},\n",
    "\n",
    "                 {\"firstName\": \"Jessy\", \"lastName\": \"Petter\"}]}\n",
    "          \n",
    "**Expected output:** \n",
    "\n",
    "{'employees': [{'firstName': 'John', 'lastName': 'Doe'},\n",
    "\n",
    "               {'firstName': 'Anna', 'lastName': 'Smith'},\n",
    "               \n",
    "               {'firstName': 'Peter', 'lastName': 'Jones'},\n",
    "               {'firstName': 'Albert', 'lastName': 'Bert'}],\n",
    "               \n",
    " 'owners': [{'firstName': 'Jack', 'lastName': 'Petter'},\n",
    " \n",
    "            {'firstName': 'Jessy', 'lastName': 'Petter'}]}"
   ]
  },
  {
   "cell_type": "code",
   "execution_count": null,
   "metadata": {},
   "outputs": [],
   "source": [
    "d[\"employees\"].append(dict(firstname=\"Albert\", lastname = \"Bert\"))\n",
    "print(d[\"employees\"])\n",
    "\n"
   ]
  },
  {
   "cell_type": "markdown",
   "metadata": {},
   "source": [
    "**Question: Store the dictionary in a json file.**\n",
    "\n",
    "d = {\"employees\":[{\"firstName\": \"John\", \"lastName\": \"Doe\"},\n",
    "\n",
    "                {\"firstName\": \"Anna\", \"lastName\": \"Smith\"},\n",
    "                \n",
    "                {\"firstName\": \"Peter\", \"lastName\": \"Jones\"}],\n",
    "                \n",
    "      \"owners\":[{\"firstName\": \"Jack\", \"lastName\": \"Petter\"},\n",
    "\n",
    "                {\"firstName\": \"Jessy\", \"lastName\": \"Petter\"}]}\n",
    " "
   ]
  },
  {
   "cell_type": "code",
   "execution_count": null,
   "metadata": {},
   "outputs": [],
   "source": [
    "import json"
   ]
  },
  {
   "cell_type": "code",
   "execution_count": null,
   "metadata": {},
   "outputs": [],
   "source": [
    "d = {\"employees\":[{\"firstName\": \"John\", \"lastName\": \"Doe\"},\n",
    "\n",
    "                {\"firstName\": \"Anna\", \"lastName\": \"Smith\"},\n",
    "                \n",
    "                {\"firstName\": \"Peter\", \"lastName\": \"Jones\"}],\n",
    "                \n",
    "      \"owners\":[{\"firstName\": \"Jack\", \"lastName\": \"Petter\"},\n",
    "\n",
    "                {\"firstName\": \"Jessy\", \"lastName\": \"Petter\"}]}\n",
    " "
   ]
  },
  {
   "cell_type": "code",
   "execution_count": null,
   "metadata": {},
   "outputs": [],
   "source": [
    "with open(\"new_j.json\" ,\"w\")as file:\n",
    "    json.dump(d ,file ,indent=4 ,sort_keys= True)\n",
    "    \n",
    "#As you can see we created the json file using the standard file handling method, \n",
    "\n",
    "#json.dump   it easy to write the dictionary content to the file. \n",
    "#indent=4    will create 4 white spaces to indent the different levels of the dictionary items \n",
    "#sort_keys=True   tells Python to preserve the order of the dictionary thrown in the file."
   ]
  },
  {
   "cell_type": "code",
   "execution_count": null,
   "metadata": {},
   "outputs": [],
   "source": [
    "# JSON to Dict\n",
    "\n",
    "import json\n",
    "from pprint import pprint\n",
    "\n",
    "with open(\"new_j.json\" ,\"r\")as file:\n",
    "    d = json.loads(file.read())\n",
    "    \n",
    "pprint(d)"
   ]
  },
  {
   "cell_type": "code",
   "execution_count": null,
   "metadata": {},
   "outputs": [],
   "source": [
    "\n",
    "import json\n",
    "from pprint import pprint\n",
    "\n",
    "with open(\"new_j.json\" ,\"r+\")as file:\n",
    "    d = json.loads(file.read())\n",
    "    d[\"employees\"].append(dict(firstName = \"Duke\" , lastName =\"casilas\"))\n",
    "    file.seek(0)\n",
    "    json.dump(d,file,indent=4,sort_keys=True)\n",
    "    file.truncate()\n",
    "pprint(d)"
   ]
  },
  {
   "cell_type": "markdown",
   "metadata": {},
   "source": [
    "<p></p>\n",
    "\n",
    "\n",
    "**Question: Please complete the code so that it prints out the expected output.**\n",
    "\n",
    "a = [1, 2, 3] \n",
    "\n",
    "Expected output: \n",
    "\n",
    "Item 1 has index 0\n",
    "\n",
    "Item 2 has index 1\n",
    "\n",
    "Item 3 has index 2"
   ]
  },
  {
   "cell_type": "code",
   "execution_count": null,
   "metadata": {
    "code_folding": []
   },
   "outputs": [],
   "source": [
    "a = [1,2,3]\n",
    "\n",
    "for index,a in enumerate(a):\n",
    "    print(\"Item %s has index %s\"%(index,a))\n"
   ]
  },
  {
   "cell_type": "markdown",
   "metadata": {},
   "source": [
    "**Create a program that prints out Hello  every two seconds.**\n",
    "\n",
    "Expected output: \n",
    "\n",
    "...\n",
    "Hello\n",
    "Hello\n",
    "Hello\n",
    "Hello\n",
    "Hello\n",
    "Hello"
   ]
  },
  {
   "cell_type": "code",
   "execution_count": null,
   "metadata": {},
   "outputs": [],
   "source": [
    "import time\n",
    "\n",
    "while 1<2:\n",
    "    print(\"Hello\",time.sleep(2))"
   ]
  },
  {
   "cell_type": "markdown",
   "metadata": {},
   "source": [
    "**Create a program that once executed the program prints Hello  instantly first, then it prints it after 1 second, then after 2, 3, 4, and so on the interval increases between prints.**"
   ]
  },
  {
   "cell_type": "code",
   "execution_count": null,
   "metadata": {},
   "outputs": [],
   "source": [
    "import time\n",
    "\n",
    "i = 0 \n",
    "\n",
    "\n",
    "while True:\n",
    "    i = i + 1 \n",
    "    \n",
    "    print(\"Hello\",time.sleep(i))\n",
    "    \n"
   ]
  },
  {
   "cell_type": "markdown",
   "metadata": {},
   "source": [
    "**Create a program that once executed the programs prints Hello  instantly first, then it prints it after 1 second, then after 2, 3, and then the program prints out the message \"End of the Loop\" and stops.**\n"
   ]
  },
  {
   "cell_type": "code",
   "execution_count": null,
   "metadata": {
    "ExecuteTime": {
     "end_time": "2018-11-19T03:35:55.420754Z",
     "start_time": "2018-11-19T03:35:49.376156Z"
    }
   },
   "outputs": [],
   "source": [
    "import time\n",
    "\n",
    "i = 0 \n",
    "\n",
    "while True:\n",
    "    print(\"Hello\")\n",
    "    i = i + 1 \n",
    "    if i > 3:\n",
    "        print(\"End of loop\")\n",
    "        break\n",
    "    time.sleep(i)    \n",
    "\n",
    "        \n",
    "    \n",
    "\n",
    "    \n",
    "# BREAK KEYWORD \n",
    "    "
   ]
  },
  {
   "cell_type": "markdown",
   "metadata": {},
   "source": [
    "**Print Hello and Hi at infinte times**"
   ]
  },
  {
   "cell_type": "code",
   "execution_count": null,
   "metadata": {
    "ExecuteTime": {
     "start_time": "2018-11-19T03:39:58.723Z"
    }
   },
   "outputs": [],
   "source": [
    "\n",
    "while True:\n",
    "    print(\"Hello\")\n",
    "\n",
    "    if 2>1:\n",
    "        pass\n",
    "    print(\"hi\")\n",
    "    \n",
    "    \n",
    "# PASS Keyword "
   ]
  },
  {
   "cell_type": "markdown",
   "metadata": {},
   "source": [
    "** Ignoring the next statement**"
   ]
  },
  {
   "cell_type": "code",
   "execution_count": null,
   "metadata": {
    "ExecuteTime": {
     "start_time": "2018-11-19T03:55:12.930Z"
    }
   },
   "outputs": [],
   "source": [
    "while True:\n",
    "    print(\"Hello\")\n",
    "    \n",
    "    if 2>1:\n",
    "        continue\n",
    "        print(\"Hi\")\n",
    "    "
   ]
  },
  {
   "cell_type": "markdown",
   "metadata": {},
   "source": [
    "**Create an English to Portuguese translation program.**\n",
    "\n",
    "The program takes a word from the user as input and translates it using the following dictionary as a vocabulary source.\n",
    "\n",
    "d = dict(weather = \"clima\", earth = \"terra\", rain = \"chuva\")\n",
    "\n",
    "**Expected output:**\n",
    "\n",
    "Enter word: earth\n",
    "\n",
    "terra"
   ]
  },
  {
   "cell_type": "code",
   "execution_count": 32,
   "metadata": {
    "ExecuteTime": {
     "end_time": "2018-11-19T05:45:27.000420Z",
     "start_time": "2018-11-19T05:45:24.370290Z"
    }
   },
   "outputs": [
    {
     "name": "stdout",
     "output_type": "stream",
     "text": [
      "Enter word: earth\n",
      "terra\n"
     ]
    }
   ],
   "source": [
    "\n",
    "import string\n",
    "d = dict(weather = \"clima\", earth = \"terra\", rain = \"chuva\")\n",
    "\n",
    "def vocabulary(word):\n",
    "    return d[word]\n",
    "try:\n",
    "    word = input(\"Enter word: \")\n",
    "    \n",
    "    print(vocabulary(word))\n",
    "except:\n",
    "    print(\"Not in list\")\n",
    "    \n",
    "    \n",
    "\n",
    "\n",
    "\n",
    "\n",
    "\n"
   ]
  },
  {
   "cell_type": "markdown",
   "metadata": {
    "ExecuteTime": {
     "end_time": "2018-11-19T04:20:08.531388Z",
     "start_time": "2018-11-19T04:20:08.527398Z"
    }
   },
   "source": [
    "**Question: Create an English to Portuguese translation program.**\n",
    "\n",
    "The program takes a word from the user as input and translates it using the following dictionary as a vocabulary source. In addition, return the message \"We couldn't find that word!\" when the user enters a word that is not in the dictionary. Also, make the program non case-sensitive meaning that for example, both earth and Earth should return the translation correctly for that word.\n",
    "\n",
    "d = dict(weather = \"clima\", earth = \"terra\", rain = \"chuva\")"
   ]
  },
  {
   "cell_type": "code",
   "execution_count": 33,
   "metadata": {
    "ExecuteTime": {
     "end_time": "2018-11-19T05:45:46.078109Z",
     "start_time": "2018-11-19T05:45:43.012200Z"
    }
   },
   "outputs": [
    {
     "name": "stdout",
     "output_type": "stream",
     "text": [
      "Enter word: Earth\n",
      "terra\n"
     ]
    }
   ],
   "source": [
    "import string\n",
    "d = dict(weather = \"clima\", earth = \"terra\", rain = \"chuva\")\n",
    "\n",
    "def vocabulary(word):\n",
    "    return d[word]\n",
    "try:\n",
    "    word = input(\"Enter word: \").lower()\n",
    "    \n",
    "    print(vocabulary(word))\n",
    "except:\n",
    "    print(\"Not in list\")\n",
    "    "
   ]
  },
  {
   "cell_type": "markdown",
   "metadata": {},
   "source": [
    "**Question: Please create an empty file (manually as you normally create Python files) and name it requests.py . Make sure the file has that name exactly.**\n",
    "\n",
    "Then just paste the following code in the file (manually):\n",
    "\n",
    "import requests\n",
    "\n",
    "r = requests.get(\"http://www.pythonhow.com\")\n",
    "\n",
    "print(r.text[:100])\n",
    "\n",
    "Executing the script will throw an error. Please fix that error so that you get the expected output and explain why the error happened."
   ]
  },
  {
   "cell_type": "code",
   "execution_count": 36,
   "metadata": {
    "ExecuteTime": {
     "end_time": "2018-11-19T05:54:18.215819Z",
     "start_time": "2018-11-19T05:54:14.685457Z"
    },
    "scrolled": true
   },
   "outputs": [
    {
     "name": "stdout",
     "output_type": "stream",
     "text": [
      "<!DOCTYPE html>\n",
      "<!--[if IE 7]>\r\n",
      "<html class=\"ie ie7\" lang=\"en-US\" prefix=\"og: http://ogp.me/ns#\">\r\n",
      "<\n"
     ]
    }
   ],
   "source": [
    "%run import_script.py\n",
    "\n",
    "# Simply rename file requests.py to something else"
   ]
  },
  {
   "cell_type": "markdown",
   "metadata": {},
   "source": [
    "**Print out the text of this file**\n",
    "http://www.pythonhow.com/data/universe.txt Please don't manually download the file. Let Python do all the work."
   ]
  },
  {
   "cell_type": "code",
   "execution_count": 38,
   "metadata": {
    "ExecuteTime": {
     "end_time": "2018-11-19T05:58:37.106497Z",
     "start_time": "2018-11-19T05:58:36.418345Z"
    }
   },
   "outputs": [
    {
     "name": "stdout",
     "output_type": "stream",
     "text": [
      "Distant regions of space are assumed to exist and to be part of reality as much as we are, even though we can never interact with them. The spatial region that we can affect and be affected by is the observable universe. The observable universe depends on the location of the observer. By traveling, an observer can come into contact with a greater region of spacetime than an observer who remains still. Nevertheless, even the most rapid traveler will not be able to interact with all of space. Typically, the observable universe is taken to mean the portion of the Universe that is observable from our vantage point in the Milky Way.\n"
     ]
    }
   ],
   "source": [
    "import requests\n",
    "\n",
    "response = requests.get(\"http://www.pythonhow.com/data/universe.txt\")\n",
    "text = response.text\n",
    "print(text)\n",
    "\n",
    "\n",
    "#We're using the get  method of the requests  library here which produces a response  object in \n",
    "#line 2. Then, in \n",
    "#line 3 we apply the text property to that response object to get the text of the loaded webpage."
   ]
  },
  {
   "cell_type": "markdown",
   "metadata": {},
   "source": [
    "**Count the number of \"a\" characters in this text file:**\n",
    "\n",
    "http://www.pythonhow.com/data/universe.txt"
   ]
  },
  {
   "cell_type": "code",
   "execution_count": 39,
   "metadata": {
    "ExecuteTime": {
     "end_time": "2018-11-19T06:02:39.951571Z",
     "start_time": "2018-11-19T06:02:39.343870Z"
    }
   },
   "outputs": [
    {
     "data": {
      "text/plain": [
       "47"
      ]
     },
     "execution_count": 39,
     "metadata": {},
     "output_type": "execute_result"
    }
   ],
   "source": [
    "response = requests.get(\"http://www.pythonhow.com/data/universe.txt\")\n",
    "text = response.text\n",
    "text.count(\"a\")"
   ]
  },
  {
   "cell_type": "markdown",
   "metadata": {},
   "source": [
    "**Create a script that let the user type in a search term and then the program opens the browser and searches the term on Google.**"
   ]
  },
  {
   "cell_type": "code",
   "execution_count": 43,
   "metadata": {
    "ExecuteTime": {
     "end_time": "2018-11-19T06:10:06.934853Z",
     "start_time": "2018-11-19T06:10:02.027328Z"
    }
   },
   "outputs": [
    {
     "name": "stdout",
     "output_type": "stream",
     "text": [
      "Enter your google query : python\n"
     ]
    },
    {
     "data": {
      "text/plain": [
       "True"
      ]
     },
     "execution_count": 43,
     "metadata": {},
     "output_type": "execute_result"
    }
   ],
   "source": [
    "import webbrowser\n",
    "\n",
    "query = input(\"Enter your google query : \")\n",
    "\n",
    "url = \"https://www.google.com/?gws_rd=cr,ssl&ei=NCZFWIOJN8yMsgHCyLV4&fg=1#q=%s\" % str(query)\n",
    "\n",
    "webbrowser.open_new_tab(url)\n",
    "\n"
   ]
  },
  {
   "cell_type": "markdown",
   "metadata": {},
   "source": [
    "**Multiply the values of thr text file in the URl by two and export output to new file **"
   ]
  },
  {
   "cell_type": "code",
   "execution_count": 46,
   "metadata": {
    "ExecuteTime": {
     "end_time": "2018-11-19T06:16:35.634024Z",
     "start_time": "2018-11-19T06:16:19.849362Z"
    }
   },
   "outputs": [],
   "source": [
    "import pandas\n",
    "\n",
    "data = pandas.read_csv(\"http://www.pythonhow.com/data/sampledata.txt\")\n",
    "data_2 = data * 2\n",
    "data_2.to_csv(\"import_sampledata_x_2.txt\", index=None)\n"
   ]
  },
  {
   "cell_type": "markdown",
   "metadata": {},
   "source": [
    "**Question: Please concatenate this file with this one to a single text file. The content of the output file should look like below.**"
   ]
  },
  {
   "cell_type": "code",
   "execution_count": 50,
   "metadata": {
    "ExecuteTime": {
     "end_time": "2018-11-19T06:25:43.630984Z",
     "start_time": "2018-11-19T06:25:42.995076Z"
    }
   },
   "outputs": [],
   "source": [
    "import pandas\n",
    "\n",
    "data1 = pandas.read_csv(\"http://www.pythonhow.com/data/sampledata.txt\")\n",
    "data2 = pandas.read_csv(\"./import_sampledata_x_2.txt\")\n",
    "\n",
    "con = pandas.concat([data1,data2])\n",
    "con.to_csv(\"pandas_output.txt\",index=None)\n",
    "\n",
    "#Again we are using pandas to load the data into Python.\n",
    "#Then in line 5, we use the concat  method. \n",
    "#The method expects as input a list of dataframe objects to be concatenated. \n",
    "#Lastly, in line 6, we export the data to a new text file."
   ]
  },
  {
   "cell_type": "markdown",
   "metadata": {},
   "source": [
    "*** Question) Plot the data in the file provided through the URl**"
   ]
  },
  {
   "cell_type": "code",
   "execution_count": null,
   "metadata": {},
   "outputs": [],
   "source": []
  },
  {
   "cell_type": "code",
   "execution_count": 2,
   "metadata": {
    "ExecuteTime": {
     "end_time": "2018-12-03T17:32:37.580810Z",
     "start_time": "2018-12-03T17:32:26.805993Z"
    }
   },
   "outputs": [
    {
     "name": "stdout",
     "output_type": "stream",
     "text": [
      "hi my name is greendo\n"
     ]
    },
    {
     "data": {
      "text/plain": [
       "'hi-my-name-is-greendo'"
      ]
     },
     "execution_count": 2,
     "metadata": {},
     "output_type": "execute_result"
    }
   ],
   "source": [
    "input().replace(\" \",\"-\")\n"
   ]
  },
  {
   "cell_type": "code",
   "execution_count": null,
   "metadata": {},
   "outputs": [],
   "source": []
  }
 ],
 "metadata": {
  "kernelspec": {
   "display_name": "Python 3",
   "language": "python",
   "name": "python3"
  },
  "language_info": {
   "codemirror_mode": {
    "name": "ipython",
    "version": 3
   },
   "file_extension": ".py",
   "mimetype": "text/x-python",
   "name": "python",
   "nbconvert_exporter": "python",
   "pygments_lexer": "ipython3",
   "version": "3.6.5"
  }
 },
 "nbformat": 4,
 "nbformat_minor": 2
}
