{
 "cells": [
  {
   "cell_type": "markdown",
   "metadata": {},
   "source": [
    "# 25 - 50  "
   ]
  },
  {
   "cell_type": "code",
   "execution_count": null,
   "metadata": {},
   "outputs": [],
   "source": [
    "# Make a script that prints out numbers from 1 to 10\n",
    "\n",
    "# Expected output: 1 to 10 \n",
    "\n",
    "a = range(1,11)\n",
    "\n",
    "for i in a:\n",
    "    print(i)"
   ]
  },
  {
   "cell_type": "code",
   "execution_count": null,
   "metadata": {},
   "outputs": [],
   "source": [
    "#Create a function that calculates acceleration given initial velocity v1, \n",
    "#final velocity v2, start time t1, and end time t2. \n",
    "#The formula for acceleration is:\n",
    "\n",
    "\n",
    "def  acc(v1 , v2 , t1 , t2):\n",
    "    a = (v2 - v1)/(t2-t1)\n",
    "    \n",
    "    return a\n",
    "\n",
    "\n",
    "\n",
    "\n",
    "#The first three lines are where we create the function.\n",
    "#A function definition is like a like a blueprint. \n",
    "#Then in the last line we're printing out the function output. \n",
    "#The output is whatever is returned by the return  statement."
   ]
  },
  {
   "cell_type": "code",
   "execution_count": null,
   "metadata": {},
   "outputs": [],
   "source": [
    "acc(0,10,0,20)"
   ]
  },
  {
   "cell_type": "code",
   "execution_count": null,
   "metadata": {},
   "outputs": [],
   "source": [
    "#Why is there an error in the code and how would you \n",
    "#fix it?\n",
    "\n",
    "def foo(a, b):\n",
    "    print(a+b)\n",
    "\n",
    "x = foo(2, 3) * 10\n",
    "x"
   ]
  },
  {
   "cell_type": "code",
   "execution_count": null,
   "metadata": {},
   "outputs": [],
   "source": [
    "#fix the error :\n",
    "#Repace print by replace \n",
    "\n",
    "def foo(a, b):\n",
    "    return (a+b)\n",
    "\n",
    "x = foo(2, 3) * 10\n",
    "x\n"
   ]
  },
  {
   "cell_type": "code",
   "execution_count": null,
   "metadata": {},
   "outputs": [],
   "source": [
    "#Please write a function that calculates liquid volume\n",
    "#in a sphere using the following formula.\n",
    "#The radius r  is always 10, so consider making it a default parameter.\n",
    "\n",
    "from math import pi "
   ]
  },
  {
   "cell_type": "code",
   "execution_count": null,
   "metadata": {},
   "outputs": [],
   "source": [
    "def liq(h,r=10):\n",
    "    v = ((4 * pi * r**3 )/3) - (pi * h **2 * (3*r-h)/3)\n",
    "    \n",
    "    return v\n",
    "\n"
   ]
  },
  {
   "cell_type": "code",
   "execution_count": null,
   "metadata": {},
   "outputs": [],
   "source": [
    "print(liq(2))"
   ]
  },
  {
   "cell_type": "markdown",
   "metadata": {},
   "source": [
    "## Great work Your progress is better than before ! \n",
    "### Keep it up !\n"
   ]
  },
  {
   "cell_type": "code",
   "execution_count": null,
   "metadata": {},
   "outputs": [],
   "source": [
    "#Why do you get an error and how would you fix it?\n",
    "\n",
    "def addn(b,a=2):\n",
    "    return a + b"
   ]
  },
  {
   "cell_type": "code",
   "execution_count": null,
   "metadata": {},
   "outputs": [],
   "source": [
    "#fix the error :\n",
    "# Always put non default parameters\n",
    "# first followed by default ones.\n",
    "\n",
    "\n",
    "def foo(b,a=2):\n",
    "    return a + b\n",
    "\n"
   ]
  },
  {
   "cell_type": "code",
   "execution_count": null,
   "metadata": {},
   "outputs": [],
   "source": [
    "addn(2)"
   ]
  },
  {
   "cell_type": "code",
   "execution_count": null,
   "metadata": {},
   "outputs": [],
   "source": [
    "print(foo(2))"
   ]
  },
  {
   "cell_type": "code",
   "execution_count": null,
   "metadata": {},
   "outputs": [],
   "source": [
    "#Why is there an error in the code and how would you fix \n",
    "#it?\n",
    "\n",
    "def foo(a=1, b=2):\n",
    "    return a + b\n",
    "\n",
    "x = foo - 1"
   ]
  },
  {
   "cell_type": "code",
   "execution_count": null,
   "metadata": {},
   "outputs": [],
   "source": [
    "def foo(a=5, b=5):\n",
    "    return a + b\n",
    "\n",
    "foo()-1\n",
    "#A function is called using bracket notation () "
   ]
  },
  {
   "cell_type": "code",
   "execution_count": null,
   "metadata": {},
   "outputs": [],
   "source": [
    "#What will the following script output? \n",
    "#Please try to do this mentally if you can.\n",
    "\n",
    "c = 1\n",
    "def foo():\n",
    "    return c\n",
    "c =100\n",
    "print(foo())\n",
    "\n",
    "#Ans : At the time when the function is called c\n",
    "       #has a value of 3.\n",
    "#GLOBAL_VAR"
   ]
  },
  {
   "cell_type": "code",
   "execution_count": null,
   "metadata": {},
   "outputs": [],
   "source": [
    "#Here's another similar exercise. \n",
    "#What will the following script output?\n",
    "#Try to do this mentally if you can.\n",
    "\n",
    "c = 1\n",
    "def foo():\n",
    "    c = 2\n",
    "    return c\n",
    "c = 3\n",
    "print(foo())\n",
    "\n",
    "\n",
    "#Note that c  is a local variable that exists only inside the function.\n",
    "#The other two c  variables are global variables and\n",
    "#have nothing to do with the function\n",
    "\n",
    "#LOCAL_VARIABLE ."
   ]
  },
  {
   "cell_type": "markdown",
   "metadata": {},
   "source": [
    "### LOCAL Vs GLOBAL "
   ]
  },
  {
   "cell_type": "code",
   "execution_count": null,
   "metadata": {},
   "outputs": [],
   "source": [
    "#The following script throws a NameError  \n",
    "#in the last line saying that c  is not defined.\n",
    "#Please fix the function so that there is no error and the last line is able to print out the value of c  (i.e. 1 ).\n",
    "\n",
    "\n",
    "def foo(): \n",
    "    global newvar\n",
    "    newvar = 1 \n",
    "    return newvar \n",
    "foo() \n",
    "print(newvar)\n",
    "\n",
    "\n",
    "#Adding global c  fixes the code. That line makes available name c  in the global namespace. Therefore,  print is able to access variable c ."
   ]
  },
  {
   "cell_type": "code",
   "execution_count": null,
   "metadata": {
    "scrolled": true
   },
   "outputs": [],
   "source": [
    "#Create a function that takes any string as input &\n",
    "#returns the number of words for that string.\n",
    "\n",
    "def count_words(s): \n",
    "    strng_list = s.split() \n",
    "    return len(strng_list) \n",
    "\n",
    "s = input()\n",
    "count_words(s)\n",
    "\n"
   ]
  },
  {
   "cell_type": "code",
   "execution_count": null,
   "metadata": {
    "code_folding": []
   },
   "outputs": [],
   "source": [
    "#Please download the words1.txt \n",
    "#file from the attachment and \n",
    "#then create a Python function that takes a text file as input\n",
    "#returns the number of words contained in the text file.\n",
    "\n",
    "#Expected output:10 \n",
    "\n",
    "\n",
    "\n",
    "\n",
    "def count_words(filepath):\n",
    "    with open(filepath, 'r') as file:\n",
    "        strng = file.read()\n",
    "        strng_list = strng.split(\" \")\n",
    "        return len(strng_list)\n",
    "\n",
    "print(count_words(\"words1.txt\"))\n"
   ]
  },
  {
   "cell_type": "markdown",
   "metadata": {},
   "source": [
    "**LAST OF SERIES :**\n",
    "\n",
    "Create a function that takes a text file as input and returns the number of words contained in the text file. Please take into consideration that some words can be separated by a comma with no space. For example \n",
    "\n",
    "\"I Will be the,richest Man on Planet\" \n",
    "\n",
    "would need to be counted as three words. For your convenience, you can use the text file in the attachment."
   ]
  },
  {
   "cell_type": "code",
   "execution_count": null,
   "metadata": {},
   "outputs": [],
   "source": [
    "def count_words(filepath):\n",
    "    with open(filepath, 'r') as file:\n",
    "        string = file.read()\n",
    "        string = string.replace(\",\", \" \")\n",
    "        string_list = string.split(\" \")\n",
    "        return len(string_list)\n",
    "\n",
    "print(\"First Output :-\",count_words(\"wrd2.txt\"))\n",
    "\n",
    "#OR\n",
    "\n",
    "\n",
    "import re\n",
    "\n",
    "def count_words_re(filepath):\n",
    "    with open(filepath, 'r') as file:\n",
    "        string = file.read()\n",
    "        string_list = re.split(\",| \", string)\n",
    "        return len(string_list)\n",
    "\n",
    "print(\"Second Output:-\",count_words_re(\"wrd2.txt\"))\n"
   ]
  },
  {
   "cell_type": "markdown",
   "metadata": {},
   "source": [
    "# 80 Number Exercise"
   ]
  },
  {
   "cell_type": "code",
   "execution_count": null,
   "metadata": {},
   "outputs": [],
   "source": [
    "#The following code is supposed to print out the square root of 9, \n",
    "#but it throws an error instead because another line before that is missing. \n",
    "#Please fix the script so that it prints out the square root of 9.\n",
    "\n",
    "math.sqrt(9) "
   ]
  },
  {
   "cell_type": "code",
   "execution_count": null,
   "metadata": {},
   "outputs": [],
   "source": [
    "#ANS : \n",
    "\n",
    "import math \n",
    "math.pow(2,3)\n"
   ]
  },
  {
   "cell_type": "markdown",
   "metadata": {},
   "source": [
    "Question: The script is supposed to output the cosine of angle 1 radian, but instead it is throwing an error. Please fix the code so that it prints out the expected output.\n",
    "\n"
   ]
  },
  {
   "cell_type": "code",
   "execution_count": null,
   "metadata": {},
   "outputs": [],
   "source": [
    "import math\n",
    "\n",
    "print(math.cosine(1))\n",
    "\n",
    "#to check functions in math dir(math)\n"
   ]
  },
  {
   "cell_type": "code",
   "execution_count": null,
   "metadata": {
    "scrolled": true
   },
   "outputs": [],
   "source": [
    "import math \n",
    "math.cos(1)\n"
   ]
  },
  {
   "cell_type": "markdown",
   "metadata": {},
   "source": [
    "Please try to guess what is missing in the following code and add the missing part so that the code works fine."
   ]
  },
  {
   "cell_type": "code",
   "execution_count": null,
   "metadata": {},
   "outputs": [],
   "source": [
    "import math\n",
    "print(math.pow(2))"
   ]
  },
  {
   "cell_type": "code",
   "execution_count": null,
   "metadata": {},
   "outputs": [],
   "source": [
    "math.pow(2,2)"
   ]
  },
  {
   "cell_type": "markdown",
   "metadata": {},
   "source": [
    "Create a script that generates a text file with all letters of English alphabet inside it, one letter per line.\n",
    "\n",
    "## ZIP ()"
   ]
  },
  {
   "cell_type": "code",
   "execution_count": null,
   "metadata": {
    "code_folding": []
   },
   "outputs": [],
   "source": [
    "import string\n",
    "\n",
    "with open(\"letters.txt\",\"w\") as file:\n",
    "    for letter in string.ascii_lowercase:\n",
    "        file.write(letter + \"\\n\")"
   ]
  },
  {
   "cell_type": "markdown",
   "metadata": {},
   "source": [
    "Question : Print out in each line the sum of homologous items of the two sequences.\n",
    "\n",
    "a = [1, 2, 3]\n",
    "\n",
    "b = (4, 5, 6)"
   ]
  },
  {
   "cell_type": "code",
   "execution_count": null,
   "metadata": {},
   "outputs": [],
   "source": [
    "a = [1,2,3]\n",
    "b = (4,5,6)\n",
    "\n",
    "for i,j in zip(a,b):\n",
    "    print(i+j)"
   ]
  },
  {
   "cell_type": "markdown",
   "metadata": {},
   "source": [
    "# Indexing"
   ]
  },
  {
   "cell_type": "code",
   "execution_count": null,
   "metadata": {},
   "outputs": [],
   "source": [
    "lst = [10,20,30,40,50]"
   ]
  },
  {
   "cell_type": "code",
   "execution_count": null,
   "metadata": {},
   "outputs": [],
   "source": [
    "#10\n",
    "lst[0] #or\n",
    "lst[-5]\n"
   ]
  },
  {
   "cell_type": "code",
   "execution_count": null,
   "metadata": {},
   "outputs": [],
   "source": [
    "#10,20,30,40\n",
    "lst[:-1]"
   ]
  },
  {
   "cell_type": "code",
   "execution_count": null,
   "metadata": {},
   "outputs": [],
   "source": [
    "lst[1:-1]"
   ]
  },
  {
   "cell_type": "code",
   "execution_count": null,
   "metadata": {},
   "outputs": [],
   "source": [
    "#10, 20, 30, 40, 50\n",
    "lst[:]"
   ]
  },
  {
   "cell_type": "code",
   "execution_count": null,
   "metadata": {},
   "outputs": [],
   "source": [
    "#10, 20, 30, 40, 50\n",
    "\n",
    "# 40,50\n",
    "lst[3:]"
   ]
  },
  {
   "cell_type": "code",
   "execution_count": null,
   "metadata": {},
   "outputs": [],
   "source": [
    "#10, 20, 30\n",
    "lst[:3]"
   ]
  },
  {
   "cell_type": "markdown",
   "metadata": {},
   "source": [
    "# Slicing"
   ]
  },
  {
   "cell_type": "code",
   "execution_count": null,
   "metadata": {},
   "outputs": [],
   "source": [
    "#10, 20, 30, 40, 50\n",
    "lst[0::]"
   ]
  },
  {
   "cell_type": "code",
   "execution_count": null,
   "metadata": {},
   "outputs": [],
   "source": [
    "lst[:5:]"
   ]
  },
  {
   "cell_type": "code",
   "execution_count": null,
   "metadata": {},
   "outputs": [],
   "source": [
    "lst[0::1]"
   ]
  },
  {
   "cell_type": "code",
   "execution_count": null,
   "metadata": {},
   "outputs": [],
   "source": [
    "lst[-1::]"
   ]
  },
  {
   "cell_type": "code",
   "execution_count": null,
   "metadata": {},
   "outputs": [],
   "source": [
    "lst[::]"
   ]
  },
  {
   "cell_type": "code",
   "execution_count": null,
   "metadata": {},
   "outputs": [],
   "source": [
    "lst[::-1]"
   ]
  },
  {
   "cell_type": "markdown",
   "metadata": {},
   "source": [
    "**Question : Create a script that generates a file where all letters of English alphabet are listed two in each line. The inside of the text file would look like:**\n",
    "\n",
    "ab \n",
    "cd\n",
    "ef\n",
    "\n",
    "and so on..."
   ]
  },
  {
   "cell_type": "code",
   "execution_count": null,
   "metadata": {},
   "outputs": [],
   "source": [
    "import string\n",
    "\n",
    "strg = string.ascii_lowercase\n",
    "\n",
    "a = strg\n",
    "a = string.ascii_letters\n",
    "\n",
    "for i,j in zip(strg[::2] , a[1::2]):\n",
    "    print(i+j+\"\\n\")\n",
    "    "
   ]
  },
  {
   "cell_type": "code",
   "execution_count": null,
   "metadata": {
    "scrolled": true
   },
   "outputs": [],
   "source": [
    "import string\n",
    "\n",
    "strg = string.ascii_lowercase\n",
    "\n",
    "a = strg\n",
    "a = string.ascii_letters\n",
    "\n",
    "for i,j in zip(strg[::3] , a[1::2]):\n",
    "    print(i+j+\"\\n\")\n",
    "    "
   ]
  },
  {
   "cell_type": "markdown",
   "metadata": {},
   "source": [
    "**Create a script that generates a file where all letters of English alphabet are listed three in each line. The inside of the text file would look like:**\n",
    "\n",
    "abc\n",
    "def\n",
    "ghi"
   ]
  },
  {
   "cell_type": "code",
   "execution_count": null,
   "metadata": {
    "code_folding": []
   },
   "outputs": [],
   "source": [
    "import string\n",
    "\n",
    "letters = string.ascii_lowercase + \" \"\n",
    "\n",
    "slice1 = letters[0::3]\n",
    "slice2 = letters[1::3]\n",
    "slice3 = letters[2::3]\n",
    "\n",
    "with open(\"letters.txt\", \"w\") as file:\n",
    "    for s1, s2, s3 in zip(slice1, slice2, slice3):\n",
    "        file.write(s1 + s2 + s3 + \"\\n\")"
   ]
  },
  {
   "cell_type": "markdown",
   "metadata": {},
   "source": [
    "**Please create a script that generates 26 text files named a.txt, b.txt, and so on up to z.txt. Each file should contain a letter reflecting its filename.**\n",
    "\n",
    "**So, a.txt will contain letter a, b.txt will contain letter b and so on.**"
   ]
  },
  {
   "cell_type": "code",
   "execution_count": null,
   "metadata": {},
   "outputs": [],
   "source": [
    "import string , os"
   ]
  },
  {
   "cell_type": "code",
   "execution_count": null,
   "metadata": {},
   "outputs": [],
   "source": [
    "if not os.path.exists(\"XXX_letters\"):\n",
    "    os.makedirs(\"XXX_letters\")\n",
    "    \n",
    "\n",
    "for letter in string.ascii_lowercase:\n",
    "    with open(\"XXX_letters/\" + letter + \".txt\",\"w\")as file:\n",
    "        file.write(letter + \"\\n\")\n",
    "\n"
   ]
  },
  {
   "cell_type": "code",
   "execution_count": null,
   "metadata": {},
   "outputs": [],
   "source": [
    "li = string.ascii_lowercase\n",
    "print(list(li))"
   ]
  },
  {
   "cell_type": "markdown",
   "metadata": {},
   "source": [
    "**Create a script that iterates through text files and checks if strings p, y, t, h, o, or n are found in the content of the text file. If any of those strings is found, append that string to a list.**\n",
    "\n"
   ]
  },
  {
   "cell_type": "code",
   "execution_count": 21,
   "metadata": {
    "scrolled": false
   },
   "outputs": [
    {
     "name": "stdout",
     "output_type": "stream",
     "text": [
      "[]\n"
     ]
    }
   ],
   "source": [
    "import string \n",
    "letter = []\n",
    "\n",
    "check = \"Good\"\n",
    "\n",
    "if i in check:\n",
    "    letter.append(i)\n",
    "    \n",
    "print(letter)\n",
    "    "
   ]
  },
  {
   "cell_type": "code",
   "execution_count": 28,
   "metadata": {},
   "outputs": [
    {
     "name": "stdout",
     "output_type": "stream",
     "text": [
      "[]\n"
     ]
    }
   ],
   "source": [
    "import glob\n",
    "\n",
    "letters = []\n",
    "file_list = glob.iglob(\"letters/*.txt\")\n",
    "check = \"python\"\n",
    "\n",
    "for filename in file_list:\n",
    "    with open(filename,\"r\") as file:\n",
    "        letter = file.read().strip(\"\\n\")\n",
    "        if letter in check:\n",
    "            letters.append(letter)\n",
    "\n",
    "print(letters)"
   ]
  },
  {
   "cell_type": "markdown",
   "metadata": {},
   "source": [
    "Question: The script is supposed to print out letter \"e\" if the letter is in string \"Hello\", but it doesn't. Please try to fix the script.\n",
    "\n",
    "for letter in \"Hello\":\n",
    "    if letter == \"e\":\n",
    "    print(letter)\n",
    "    \n",
    "#### Excepted o/p : e"
   ]
  },
  {
   "cell_type": "code",
   "execution_count": 50,
   "metadata": {},
   "outputs": [
    {
     "name": "stdout",
     "output_type": "stream",
     "text": [
      "Enter h\n"
     ]
    }
   ],
   "source": [
    "check = input(\"Enter \")\n",
    "for i in check:\n",
    "    if i == \"a\":\n",
    "        print(i) \n",
    "  "
   ]
  },
  {
   "cell_type": "markdown",
   "metadata": {},
   "source": [
    "**Question: The code is supposed to get some input from the user, but instead it produces an error. Please try to understand the error and then fix it.**\n",
    "\n",
    "pass = input(\"Please enter your password: \")"
   ]
  },
  {
   "cell_type": "code",
   "execution_count": 52,
   "metadata": {},
   "outputs": [
    {
     "name": "stdout",
     "output_type": "stream",
     "text": [
      "Please enter your password: hi\n"
     ]
    }
   ],
   "source": [
    "pass_ = input(\"Please enter your password: \")"
   ]
  },
  {
   "cell_type": "markdown",
   "metadata": {},
   "source": [
    "**Question: The code produces an error. Please understand the error and try to fix it**\n",
    "\n",
    "age = input(\"What's your age? \")\n",
    "age_last_year = age - 1\n",
    "print(\"Last year you were %s.\" % age_last_year)"
   ]
  },
  {
   "cell_type": "code",
   "execution_count": 62,
   "metadata": {},
   "outputs": [
    {
     "name": "stdout",
     "output_type": "stream",
     "text": [
      "What's your age? 55\n",
      "Last year you were 54.\n"
     ]
    }
   ],
   "source": [
    "age = int(input(\"What's your age? \"))\n",
    "age_last_year = age - 1\n",
    "print(\"Last year you were %s.\" % age_last_year)"
   ]
  },
  {
   "cell_type": "code",
   "execution_count": 71,
   "metadata": {},
   "outputs": [
    {
     "name": "stdout",
     "output_type": "stream",
     "text": [
      "My first name is Winhack\n"
     ]
    }
   ],
   "source": [
    "name = \"Winhack\"\n",
    "print(\"My first name is %s\" %name)"
   ]
  },
  {
   "cell_type": "markdown",
   "metadata": {},
   "source": [
    "# Fibonacci series"
   ]
  },
  {
   "cell_type": "code",
   "execution_count": null,
   "metadata": {},
   "outputs": [],
   "source": [
    "def rec_fib(n):\n",
    "    if n > 1:\n",
    "        return rec_fib(n-1) + rec_fib(n-2)\n",
    "    return n"
   ]
  },
  {
   "cell_type": "code",
   "execution_count": null,
   "metadata": {
    "code_folding": []
   },
   "outputs": [],
   "source": [
    "for i in range(5):\n",
    "    print(i, rec_fib(i))\n",
    "    "
   ]
  },
  {
   "cell_type": "code",
   "execution_count": null,
   "metadata": {},
   "outputs": [],
   "source": [
    "def F(n):\n",
    "    if n > 1:\n",
    "        return rec_fib(n-1) + rec_fib(n-2)\n",
    "    return n"
   ]
  },
  {
   "cell_type": "code",
   "execution_count": null,
   "metadata": {},
   "outputs": [],
   "source": [
    "for i in range(10):\n",
    "    print(i,rec_fib(i))"
   ]
  },
  {
   "cell_type": "markdown",
   "metadata": {},
   "source": [
    "# Great Work !!!\n",
    "You completed this section successfully !\n"
   ]
  },
  {
   "cell_type": "markdown",
   "metadata": {},
   "source": [
    "<img src=\"../Py -1-100/1.jpg\" />"
   ]
  },
  {
   "cell_type": "markdown",
   "metadata": {},
   "source": [
    "So great to see you in next section ! "
   ]
  }
 ],
 "metadata": {
  "kernelspec": {
   "display_name": "Python 3",
   "language": "python",
   "name": "python3"
  },
  "language_info": {
   "codemirror_mode": {
    "name": "ipython",
    "version": 3
   },
   "file_extension": ".py",
   "mimetype": "text/x-python",
   "name": "python",
   "nbconvert_exporter": "python",
   "pygments_lexer": "ipython3",
   "version": "3.6.5"
  }
 },
 "nbformat": 4,
 "nbformat_minor": 2
}
